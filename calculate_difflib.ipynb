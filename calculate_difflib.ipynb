{
 "cells": [
  {
   "cell_type": "code",
   "execution_count": 1,
   "metadata": {
    "collapsed": true
   },
   "outputs": [],
   "source": [
    "import difflib\n",
    "\n",
    "software = ['wget', 'tzdata', 'trousers', 'teamd', 'teamd', 'tar', 'systemd-sysv',\n",
    "            'systemd-sysv', 'sudo', 'snappy', 'rpm-python27', 'rpm-build-libs', 'rootfiles',\n",
    "            'rdma', 'quota', 'pyxattr', 'python27-virtualenv', 'python27-simplejson', 'python-iniparse',\n",
    "            'python-IPy', 'python', 'pygpgme', 'pygobject3-base', 'procmail', 'pm-utils', 'pinentry',\n",
    "            'perl-threads', 'perl-libs', 'parted', 'os-prober', 'openssh-clients', 'oci-register-machine',\n",
    "            'nss-softokn-freebl', 'nss-softokn-freebl', 'npm', 'net-tools', 'mesa-libGL', 'mariadb-libs',\n",
    "            'lua', 'libuser', 'libselinux-utils', 'libproxy', 'libpipeline', 'libpciaccess', 'libpciaccess',\n",
    "            'libpath_utils', 'libnl3', 'libini_config', 'libidn', 'libgssglue', 'libgomp', 'libgcrypt', 'libgcrypt',\n",
    "            'libgcc', 'libedit', 'libdb', 'libcom_err', 'libcom_err', 'libcap-ng', 'libXfixes', 'libSM',\n",
    "            'kernel-headers', 'kbd', 'java-1.8.0-openjdk', 'initscripts', 'hardlink', 'hardlink', 'hardlink',\n",
    "            'gssproxy', 'groff-base', 'grep', 'gobject-introspection', 'freetype', 'fipscheck', 'ethtool',\n",
    "            'elfutils-libelf', 'diffutils', 'device-mapper-event', 'device-mapper-event', 'dejavu-sans-fonts',\n",
    "            'curl', 'crontabs', 'cronie', 'container-selinux', 'container-selinux', 'chkconfig', 'chkconfig',\n",
    "            'checkpolicy', 'bzip2', 'bind-license', 'aws-cfn-bootstrap', 'aws-cfn-bootstrap', 'aws-cfn-bootstrap',\n",
    "            'audit-libs', 'NetworkManager-team', 'Amazon SSM Agent', 'Amazon SSM Agent', 'AWS Tools for Windows',\n",
    "            'httpd']"
   ]
  },
  {
   "cell_type": "code",
   "execution_count": 2,
   "metadata": {},
   "outputs": [],
   "source": [
    "def calculate(input_string):\n",
    "    match_result = {}\n",
    "\n",
    "    for software_name in software:\n",
    "        match_result[software_name] = difflib.SequenceMatcher(None, software_name, input_string).ratio()\n",
    "\n",
    "    for k, v in sorted(match_result.items(), key=lambda x: x[1]):\n",
    "        print(str(k) + \": \" + str(v))"
   ]
  },
  {
   "cell_type": "code",
   "execution_count": 3,
   "metadata": {},
   "outputs": [
    {
     "name": "stdout",
     "output_type": "stream",
     "text": [
      "lua: 0.0\nlibnl3: 0.0\nlibidn: 0.0\nlibgcc: 0.0\nlibdb: 0.0\nlibSM: 0.0\nkbd: 0.0\nAmazon SSM Agent: 0.07407407407407407\nrpm-build-libs: 0.08\nlibini_config: 0.08333333333333333\nrpm-python27: 0.08695652173913043\nmariadb-libs: 0.08695652173913043\npython-IPy: 0.09523809523809523\nmesa-libGL: 0.09523809523809523\nnet-tools: 0.1\nlibgcrypt: 0.1\nlibcap-ng: 0.1\nlibXfixes: 0.1\nchkconfig: 0.1\ncrontabs: 0.10526315789473684\nlibgomp: 0.1111111111111111\nlibedit: 0.1111111111111111\nsnappy: 0.11764705882352941\npython: 0.11764705882352941\nquota: 0.125\nbzip2: 0.125\nAWS Tools for Windows: 0.125\nwget: 0.13333333333333333\nsudo: 0.13333333333333333\nrdma: 0.13333333333333333\ncurl: 0.13333333333333333\njava-1.8.0-openjdk: 0.13793103448275862\nnpm: 0.14285714285714285\ndejavu-sans-fonts: 0.14285714285714285\naws-cfn-bootstrap: 0.14285714285714285\nlibselinux-utils: 0.14814814814814814\nelfutils-libelf: 0.15384615384615385\nlibpciaccess: 0.17391304347826086\nbind-license: 0.17391304347826086\ncheckpolicy: 0.18181818181818182\ngobject-introspection: 0.1875\nlibgssglue: 0.19047619047619047\ngroff-base: 0.19047619047619047\naudit-libs: 0.19047619047619047\nrootfiles: 0.2\npython27-virtualenv: 0.2\npython27-simplejson: 0.2\ndiffutils: 0.2\nnss-softokn-freebl: 0.20689655172413793\nprocmail: 0.21052631578947367\npm-utils: 0.21052631578947367\nlibproxy: 0.21052631578947367\nhardlink: 0.21052631578947367\ngssproxy: 0.21052631578947367\nfreetype: 0.21052631578947367\npygpgme: 0.2222222222222222\nethtool: 0.2222222222222222\npython-iniparse: 0.23076923076923078\npygobject3-base: 0.23076923076923078\nopenssh-clients: 0.23076923076923078\ntzdata: 0.23529411764705882\ncronie: 0.23529411764705882\nteamd: 0.25\nlibpath_utils: 0.25\noci-register-machine: 0.25806451612903225\nsystemd-sysv: 0.2608695652173913\ngrep: 0.26666666666666666\nNetworkManager-team: 0.26666666666666666\nlibpipeline: 0.2727272727272727\ninitscripts: 0.2727272727272727\ntar: 0.2857142857142857\ncontainer-selinux: 0.2857142857142857\nperl-libs: 0.3\nos-prober: 0.3\nfipscheck: 0.3\npinentry: 0.3157894736842105\nkernel-headers: 0.32\npyxattr: 0.3333333333333333\nlibuser: 0.3333333333333333\ndevice-mapper-event: 0.3333333333333333\nperl-threads: 0.34782608695652173\nparted: 0.35294117647058826\nlibcom_err: 0.38095238095238093\ntrousers: 0.42105263157894735\nhttpd: 0.5\n"
     ]
    }
   ],
   "source": [
    "calculate('http_server')"
   ]
  },
  {
   "cell_type": "code",
   "execution_count": null,
   "metadata": {},
   "outputs": [],
   "source": []
  }
 ],
 "metadata": {
  "kernelspec": {
   "display_name": "Python 2",
   "language": "python",
   "name": "python2"
  },
  "language_info": {
   "codemirror_mode": {
    "name": "ipython",
    "version": 2
   },
   "file_extension": ".py",
   "mimetype": "text/x-python",
   "name": "python",
   "nbconvert_exporter": "python",
   "pygments_lexer": "ipython2",
   "version": "2.7.6"
  }
 },
 "nbformat": 4,
 "nbformat_minor": 0
}
